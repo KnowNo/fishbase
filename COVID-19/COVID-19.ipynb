{
 "cells": [
  {
   "cell_type": "code",
   "execution_count": 2,
   "metadata": {
    "pycharm": {
     "is_executing": false
    }
   },
   "outputs": [
    {
     "name": "stdout",
     "output_type": "stream",
     "text": [
      "               2020-03-28  2020-03-29  2020-03-30  2020-03-31  2020-04-01  \\\n",
      "confirmed_add        5974        5217        4050        4053        4782   \n",
      "deaths_add            889         756         812         837         727   \n",
      "recovered_add        1434         646        1590        1109        1118   \n",
      "confirmed           92472       97689      101739      105792      110574   \n",
      "deaths              10023       10779       11591       12428       13155   \n",
      "recovered           12384       13030       14620       15729       16847   \n",
      "\n",
      "               2020-04-02  2020-04-03  2020-04-04  2020-04-05  2020-04-06  \n",
      "confirmed_add        4668        4585        4805        4316        3599  \n",
      "deaths_add            760         766         681         525         636  \n",
      "recovered_add        1431        1480        1238         819        1022  \n",
      "confirmed          115242      119827      124632      128948      132547  \n",
      "deaths              13915       14681       15362       15887       16523  \n",
      "recovered           18278       19758       20996       21815       22837  \n",
      "---\n"
     ]
    }
   ],
   "source": [
    "import requests\n",
    "import pandas as pd\n",
    "\n",
    "# API url\n",
    "url = 'https://covid-19.adapay.tech/api/v1/'\n",
    "# token\n",
    "token = '497115d0c2ff9586bf0fe03088cfdbe2'\n",
    "\n",
    "# region or country\n",
    "region='Italy'\n",
    "\n",
    "# headers, need the API token\n",
    "headers = {\n",
    "    'token': token\n",
    "}\n",
    "\n",
    "# the params\n",
    "payload = {\n",
    "    'region': region,\n",
    "    'start_date': '2020-03-28',\n",
    "    'end_date': '2020-04-06'\n",
    "}\n",
    "\n",
    "# call requets to load \n",
    "r = requests.get(url+'infection/region', params=payload, headers=headers)\n",
    "\n",
    "data = r.json()\n",
    "\n",
    "#for key, value in data['data']['region'][region].items():\n",
    "#    print(key, value)\n",
    "\n",
    "# use pandas to get the data\n",
    "df = pd.DataFrame.from_dict(data['data']['region'][region])\n",
    "print(df)\n",
    "print('---')\n"
   ]
  },
  {
   "cell_type": "code",
   "execution_count": 3,
   "metadata": {},
   "outputs": [
    {
     "name": "stdout",
     "output_type": "stream",
     "text": [
      "            confirmed_add  deaths_add  recovered_add  confirmed  deaths  \\\n",
      "2020-03-28           5974         889           1434      92472   10023   \n",
      "2020-03-29           5217         756            646      97689   10779   \n",
      "2020-03-30           4050         812           1590     101739   11591   \n",
      "2020-03-31           4053         837           1109     105792   12428   \n",
      "2020-04-01           4782         727           1118     110574   13155   \n",
      "2020-04-02           4668         760           1431     115242   13915   \n",
      "2020-04-03           4585         766           1480     119827   14681   \n",
      "2020-04-04           4805         681           1238     124632   15362   \n",
      "2020-04-05           4316         525            819     128948   15887   \n",
      "2020-04-06           3599         636           1022     132547   16523   \n",
      "\n",
      "            recovered  \n",
      "2020-03-28      12384  \n",
      "2020-03-29      13030  \n",
      "2020-03-30      14620  \n",
      "2020-03-31      15729  \n",
      "2020-04-01      16847  \n",
      "2020-04-02      18278  \n",
      "2020-04-03      19758  \n",
      "2020-04-04      20996  \n",
      "2020-04-05      21815  \n",
      "2020-04-06      22837  \n",
      "---\n"
     ]
    }
   ],
   "source": [
    "# exchange the row and column\n",
    "df = df.T\n",
    "print(df)\n",
    "print('---')"
   ]
  },
  {
   "cell_type": "code",
   "execution_count": 5,
   "metadata": {},
   "outputs": [
    {
     "name": "stdout",
     "output_type": "stream",
     "text": [
      "            confirmed_add  deaths_add  recovered_add  confirmed  deaths  \\\n",
      "2020-03-28           5974         889           1434      92472   10023   \n",
      "2020-03-29           5217         756            646      97689   10779   \n",
      "2020-03-30           4050         812           1590     101739   11591   \n",
      "2020-03-31           4053         837           1109     105792   12428   \n",
      "2020-04-01           4782         727           1118     110574   13155   \n",
      "2020-04-02           4668         760           1431     115242   13915   \n",
      "2020-04-03           4585         766           1480     119827   14681   \n",
      "2020-04-04           4805         681           1238     124632   15362   \n",
      "2020-04-05           4316         525            819     128948   15887   \n",
      "2020-04-06           3599         636           1022     132547   16523   \n",
      "\n",
      "            recovered  mortality rate  \n",
      "2020-03-28      12384        0.108390  \n",
      "2020-03-29      13030        0.110340  \n",
      "2020-03-30      14620        0.113929  \n",
      "2020-03-31      15729        0.117476  \n",
      "2020-04-01      16847        0.118970  \n",
      "2020-04-02      18278        0.120746  \n",
      "2020-04-03      19758        0.122518  \n",
      "2020-04-04      20996        0.123259  \n",
      "2020-04-05      21815        0.123205  \n",
      "2020-04-06      22837        0.124658  \n",
      "---\n"
     ]
    }
   ],
   "source": [
    "# calculate mortailty rate\n",
    "df['mortality rate'] = df.apply(lambda x: x['deaths'] / x['confirmed'], axis=1)\n",
    "print(df)\n",
    "print('---')"
   ]
  },
  {
   "cell_type": "code",
   "execution_count": 6,
   "metadata": {},
   "outputs": [
    {
     "data": {
      "text/plain": [
       "<matplotlib.axes._subplots.AxesSubplot at 0x121bada10>"
      ]
     },
     "execution_count": 6,
     "metadata": {},
     "output_type": "execute_result"
    },
    {
     "data": {
      "image/png": "[encoded data removed]",
      "text/plain": [
       "<Figure size 432x288 with 1 Axes>"
      ]
     },
     "metadata": {
      "needs_background": "light"
     },
     "output_type": "display_data"
    }
   ],
   "source": [
    "df.plot(kind='bar')"
   ]
  },
  {
   "cell_type": "code",
   "execution_count": 60,
   "metadata": {},
   "outputs": [
    {
     "data": {
      "text/plain": [
       "<matplotlib.axes._subplots.AxesSubplot at 0x194a1d41dc8>"
      ]
     },
     "execution_count": 60,
     "metadata": {},
     "output_type": "execute_result"
    },
    {
     "data": {
      "image/png": "[encoded data removed]",
      "text/plain": [
       "<Figure size 432x288 with 1 Axes>"
      ]
     },
     "metadata": {
      "needs_background": "light"
     },
     "output_type": "display_data"
    }
   ],
   "source": [
    "df.plot(kind='line')"
   ]
  },
  {
   "cell_type": "code",
   "execution_count": 3,
   "metadata": {},
   "outputs": [
    {
     "data": {
      "text/html": [
       "<div>\n",
       "<style scoped>\n",
       "    .dataframe tbody tr th:only-of-type {\n",
       "        vertical-align: middle;\n",
       "    }\n",
       "\n",
       "    .dataframe tbody tr th {\n",
       "        vertical-align: top;\n",
       "    }\n",
       "\n",
       "    .dataframe thead th {\n",
       "        text-align: right;\n",
       "    }\n",
       "</style>\n",
       "<table border=\"1\" class=\"dataframe\">\n",
       "  <thead>\n",
       "    <tr style=\"text-align: right;\">\n",
       "      <th></th>\n",
       "      <th>confirmed_add</th>\n",
       "      <th>deaths_add</th>\n",
       "      <th>recovered_add</th>\n",
       "      <th>confirmed</th>\n",
       "      <th>deaths</th>\n",
       "      <th>recovered</th>\n",
       "    </tr>\n",
       "  </thead>\n",
       "  <tbody>\n",
       "    <tr>\n",
       "      <th>2020-03-29</th>\n",
       "      <td>19408</td>\n",
       "      <td>441</td>\n",
       "      <td>1593</td>\n",
       "      <td>140886</td>\n",
       "      <td>2467</td>\n",
       "      <td>2665</td>\n",
       "    </tr>\n",
       "    <tr>\n",
       "      <th>2020-03-30</th>\n",
       "      <td>20921</td>\n",
       "      <td>511</td>\n",
       "      <td>2979</td>\n",
       "      <td>161807</td>\n",
       "      <td>2978</td>\n",
       "      <td>5644</td>\n",
       "    </tr>\n",
       "    <tr>\n",
       "      <th>2020-03-31</th>\n",
       "      <td>26365</td>\n",
       "      <td>895</td>\n",
       "      <td>1380</td>\n",
       "      <td>188172</td>\n",
       "      <td>3873</td>\n",
       "      <td>7024</td>\n",
       "    </tr>\n",
       "    <tr>\n",
       "      <th>2020-04-01</th>\n",
       "      <td>25200</td>\n",
       "      <td>884</td>\n",
       "      <td>1450</td>\n",
       "      <td>213372</td>\n",
       "      <td>4757</td>\n",
       "      <td>8474</td>\n",
       "    </tr>\n",
       "    <tr>\n",
       "      <th>2020-04-02</th>\n",
       "      <td>30081</td>\n",
       "      <td>1169</td>\n",
       "      <td>527</td>\n",
       "      <td>243453</td>\n",
       "      <td>5926</td>\n",
       "      <td>9001</td>\n",
       "    </tr>\n",
       "    <tr>\n",
       "      <th>2020-04-03</th>\n",
       "      <td>32133</td>\n",
       "      <td>1161</td>\n",
       "      <td>706</td>\n",
       "      <td>275586</td>\n",
       "      <td>7087</td>\n",
       "      <td>9707</td>\n",
       "    </tr>\n",
       "    <tr>\n",
       "      <th>2020-04-04</th>\n",
       "      <td>33264</td>\n",
       "      <td>1320</td>\n",
       "      <td>4945</td>\n",
       "      <td>308850</td>\n",
       "      <td>8407</td>\n",
       "      <td>14652</td>\n",
       "    </tr>\n",
       "  </tbody>\n",
       "</table>\n",
       "</div>"
      ],
      "text/plain": [
       "            confirmed_add  deaths_add  recovered_add  confirmed  deaths  \\\n",
       "2020-03-29          19408         441           1593     140886    2467   \n",
       "2020-03-30          20921         511           2979     161807    2978   \n",
       "2020-03-31          26365         895           1380     188172    3873   \n",
       "2020-04-01          25200         884           1450     213372    4757   \n",
       "2020-04-02          30081        1169            527     243453    5926   \n",
       "2020-04-03          32133        1161            706     275586    7087   \n",
       "2020-04-04          33264        1320           4945     308850    8407   \n",
       "\n",
       "            recovered  \n",
       "2020-03-29       2665  \n",
       "2020-03-30       5644  \n",
       "2020-03-31       7024  \n",
       "2020-04-01       8474  \n",
       "2020-04-02       9001  \n",
       "2020-04-03       9707  \n",
       "2020-04-04      14652  "
      ]
     },
     "execution_count": 3,
     "metadata": {},
     "output_type": "execute_result"
    }
   ],
   "source": [
    "df"
   ]
  },
  {
   "cell_type": "code",
   "execution_count": 63,
   "metadata": {
    "scrolled": false
   },
   "outputs": [
    {
     "name": "stdout",
     "output_type": "stream",
     "text": [
      "                                                      Alabama  \\\n",
      "2020-03-26  {'confirmed_add': 136, 'deaths_add': 0, 'recov...   \n",
      "2020-03-27  {'confirmed_add': 70, 'deaths_add': 3, 'recove...   \n",
      "2020-03-28  {'confirmed_add': 107, 'deaths_add': 0, 'recov...   \n",
      "2020-03-29  {'confirmed_add': 131, 'deaths_add': 6, 'recov...   \n",
      "2020-03-30  {'confirmed_add': 74, 'deaths_add': 0, 'recove...   \n",
      "\n",
      "                                                       Alaska  \\\n",
      "2020-03-26  {'confirmed_add': 15, 'deaths_add': 0, 'recove...   \n",
      "2020-03-27  {'confirmed_add': 2, 'deaths_add': 0, 'recover...   \n",
      "2020-03-28  {'confirmed_add': 27, 'deaths_add': 1, 'recove...   \n",
      "2020-03-29  {'confirmed_add': 17, 'deaths_add': 0, 'recove...   \n",
      "2020-03-30  {'confirmed_add': 12, 'deaths_add': 1, 'recove...   \n",
      "\n",
      "                                               American Samoa  \\\n",
      "2020-03-26  {'confirmed_add': 0, 'deaths_add': 0, 'recover...   \n",
      "2020-03-27  {'confirmed_add': 0, 'deaths_add': 0, 'recover...   \n",
      "2020-03-28  {'confirmed_add': 0, 'deaths_add': 0, 'recover...   \n",
      "2020-03-29  {'confirmed_add': 0, 'deaths_add': 0, 'recover...   \n",
      "2020-03-30  {'confirmed_add': 0, 'deaths_add': 0, 'recover...   \n",
      "\n",
      "                                                      Arizona  \\\n",
      "2020-03-26  {'confirmed_add': 107, 'deaths_add': 2, 'recov...   \n",
      "2020-03-27  {'confirmed_add': 157, 'deaths_add': 5, 'recov...   \n",
      "2020-03-28  {'confirmed_add': 108, 'deaths_add': 2, 'recov...   \n",
      "2020-03-29  {'confirmed_add': 146, 'deaths_add': 2, 'recov...   \n",
      "2020-03-30  {'confirmed_add': 238, 'deaths_add': 3, 'recov...   \n",
      "\n",
      "                                                     Arkansas  \\\n",
      "2020-03-26  {'confirmed_add': 55, 'deaths_add': 0, 'recove...   \n",
      "2020-03-27  {'confirmed_add': 46, 'deaths_add': 1, 'recove...   \n",
      "2020-03-28  {'confirmed_add': 28, 'deaths_add': 2, 'recove...   \n",
      "2020-03-29  {'confirmed_add': 17, 'deaths_add': 1, 'recove...   \n",
      "2020-03-30  {'confirmed_add': 47, 'deaths_add': 1, 'recove...   \n",
      "\n",
      "                                                   California  \\\n",
      "2020-03-26  {'confirmed_add': 901, 'deaths_add': 16, 'reco...   \n",
      "2020-03-27  {'confirmed_add': 758, 'deaths_add': 13, 'reco...   \n",
      "2020-03-28  {'confirmed_add': 438, 'deaths_add': 16, 'reco...   \n",
      "2020-03-29  {'confirmed_add': 757, 'deaths_add': 14, 'reco...   \n",
      "2020-03-30  {'confirmed_add': 1286, 'deaths_add': 22, 'rec...   \n",
      "\n",
      "                                                     Colorado  \\\n",
      "2020-03-26  {'confirmed_add': 409, 'deaths_add': 3, 'recov...   \n",
      "2020-03-27  {'confirmed_add': 3, 'deaths_add': 8, 'recover...   \n",
      "2020-03-28  {'confirmed_add': 307, 'deaths_add': 4, 'recov...   \n",
      "2020-03-29  {'confirmed_add': 567, 'deaths_add': 16, 'reco...   \n",
      "2020-03-30  {'confirmed_add': 4, 'deaths_add': 0, 'recover...   \n",
      "\n",
      "                                                  Connecticut  \\\n",
      "2020-03-26  {'confirmed_add': 137, 'deaths_add': 2, 'recov...   \n",
      "2020-03-27  {'confirmed_add': 279, 'deaths_add': 6, 'recov...   \n",
      "2020-03-28  {'confirmed_add': 233, 'deaths_add': 6, 'recov...   \n",
      "2020-03-29  {'confirmed_add': 469, 'deaths_add': 1, 'recov...   \n",
      "2020-03-30  {'confirmed_add': 578, 'deaths_add': 2, 'recov...   \n",
      "\n",
      "                                                     Delaware  \\\n",
      "2020-03-26  {'confirmed_add': 11, 'deaths_add': 1, 'recove...   \n",
      "2020-03-27  {'confirmed_add': 33, 'deaths_add': 1, 'recove...   \n",
      "2020-03-28  {'confirmed_add': 51, 'deaths_add': 3, 'recove...   \n",
      "2020-03-29  {'confirmed_add': 18, 'deaths_add': 1, 'recove...   \n",
      "2020-03-30  {'confirmed_add': 32, 'deaths_add': 0, 'recove...   \n",
      "\n",
      "                                             Diamond Princess  ...  \\\n",
      "2020-03-26  {'confirmed_add': 0, 'deaths_add': 0, 'recover...  ...   \n",
      "2020-03-27  {'confirmed_add': 0, 'deaths_add': 0, 'recover...  ...   \n",
      "2020-03-28  {'confirmed_add': 0, 'deaths_add': 0, 'recover...  ...   \n",
      "2020-03-29  {'confirmed_add': 0, 'deaths_add': 0, 'recover...  ...   \n",
      "2020-03-30  {'confirmed_add': 0, 'deaths_add': 0, 'recover...  ...   \n",
      "\n",
      "                                                    Tennessee  \\\n",
      "2020-03-26  {'confirmed_add': 181, 'deaths_add': 0, 'recov...   \n",
      "2020-03-27  {'confirmed_add': 221, 'deaths_add': 3, 'recov...   \n",
      "2020-03-28  {'confirmed_add': 193, 'deaths_add': 1, 'recov...   \n",
      "2020-03-29  {'confirmed_add': 209, 'deaths_add': 1, 'recov...   \n",
      "2020-03-30  {'confirmed_add': 197, 'deaths_add': 6, 'recov...   \n",
      "\n",
      "                                                        Texas  \\\n",
      "2020-03-26  {'confirmed_add': 334, 'deaths_add': 6, 'recov...   \n",
      "2020-03-27  {'confirmed_add': 374, 'deaths_add': 5, 'recov...   \n",
      "2020-03-28  {'confirmed_add': 518, 'deaths_add': 4, 'recov...   \n",
      "2020-03-29  {'confirmed_add': 337, 'deaths_add': 7, 'recov...   \n",
      "2020-03-30  {'confirmed_add': 355, 'deaths_add': 8, 'recov...   \n",
      "\n",
      "                                                         Utah  \\\n",
      "2020-03-26  {'confirmed_add': 56, 'deaths_add': 0, 'recove...   \n",
      "2020-03-27  {'confirmed_add': 76, 'deaths_add': 0, 'recove...   \n",
      "2020-03-28  {'confirmed_add': 130, 'deaths_add': 0, 'recov...   \n",
      "2020-03-29  {'confirmed_add': 118, 'deaths_add': 1, 'recov...   \n",
      "2020-03-30  {'confirmed_add': 84, 'deaths_add': 2, 'recove...   \n",
      "\n",
      "                                                      Vermont  \\\n",
      "2020-03-26  {'confirmed_add': 33, 'deaths_add': 1, 'recove...   \n",
      "2020-03-27  {'confirmed_add': 26, 'deaths_add': 1, 'recove...   \n",
      "2020-03-28  {'confirmed_add': 27, 'deaths_add': 2, 'recove...   \n",
      "2020-03-29  {'confirmed_add': 24, 'deaths_add': 0, 'recove...   \n",
      "2020-03-30  {'confirmed_add': 21, 'deaths_add': 0, 'recove...   \n",
      "\n",
      "                                               Virgin Islands  \\\n",
      "2020-03-26  {'confirmed_add': 0, 'deaths_add': 0, 'recover...   \n",
      "2020-03-27  {'confirmed_add': 2, 'deaths_add': 0, 'recover...   \n",
      "2020-03-28  {'confirmed_add': 3, 'deaths_add': 0, 'recover...   \n",
      "2020-03-29  {'confirmed_add': -22, 'deaths_add': 0, 'recov...   \n",
      "2020-03-30  {'confirmed_add': 0, 'deaths_add': 0, 'recover...   \n",
      "\n",
      "                                                     Virginia  \\\n",
      "2020-03-26  {'confirmed_add': 70, 'deaths_add': 1, 'recove...   \n",
      "2020-03-27  {'confirmed_add': 141, 'deaths_add': 0, 'recov...   \n",
      "2020-03-28  {'confirmed_add': 133, 'deaths_add': 3, 'recov...   \n",
      "2020-03-29  {'confirmed_add': 150, 'deaths_add': 7, 'recov...   \n",
      "2020-03-30  {'confirmed_add': 130, 'deaths_add': -5, 'reco...   \n",
      "\n",
      "                                                   Washington  \\\n",
      "2020-03-26  {'confirmed_add': 616, 'deaths_add': 17, 'reco...   \n",
      "2020-03-27  {'confirmed_add': 270, 'deaths_add': 7, 'recov...   \n",
      "2020-03-28  {'confirmed_add': 553, 'deaths_add': 31, 'reco...   \n",
      "2020-03-29  {'confirmed_add': 435, 'deaths_add': 10, 'reco...   \n",
      "2020-03-30  {'confirmed_add': 458, 'deaths_add': 7, 'recov...   \n",
      "\n",
      "                                                West Virginia  \\\n",
      "2020-03-26  {'confirmed_add': 13, 'deaths_add': 0, 'recove...   \n",
      "2020-03-27  {'confirmed_add': 24, 'deaths_add': 0, 'recove...   \n",
      "2020-03-28  {'confirmed_add': 20, 'deaths_add': 0, 'recove...   \n",
      "2020-03-29  {'confirmed_add': 17, 'deaths_add': 0, 'recove...   \n",
      "2020-03-30  {'confirmed_add': 32, 'deaths_add': 1, 'recove...   \n",
      "\n",
      "                                                    Wisconsin  \\\n",
      "2020-03-26  {'confirmed_add': 107, 'deaths_add': 3, 'recov...   \n",
      "2020-03-27  {'confirmed_add': 198, 'deaths_add': 4, 'recov...   \n",
      "2020-03-28  {'confirmed_add': 129, 'deaths_add': 3, 'recov...   \n",
      "2020-03-29  {'confirmed_add': 109, 'deaths_add': 1, 'recov...   \n",
      "2020-03-30  {'confirmed_add': 66, 'deaths_add': 2, 'recove...   \n",
      "\n",
      "                                                      Wyoming  \n",
      "2020-03-26  {'confirmed_add': 9, 'deaths_add': 0, 'recover...  \n",
      "2020-03-27  {'confirmed_add': 17, 'deaths_add': 0, 'recove...  \n",
      "2020-03-28  {'confirmed_add': 12, 'deaths_add': 0, 'recove...  \n",
      "2020-03-29  {'confirmed_add': 4, 'deaths_add': 0, 'recover...  \n",
      "2020-03-30  {'confirmed_add': 8, 'deaths_add': 0, 'recover...  \n",
      "\n",
      "[5 rows x 58 columns]\n"
     ]
    }
   ],
   "source": [
    "url = 'https://covid-19.adapay.tech/api/v1/'\n",
    "token = '497115d0c2ff9586bf0fe03088cfdbe2'\n",
    "region = 'US'\n",
    "\n",
    "payload = {\n",
    "    'region': region,\n",
    "    'start_date': '2020-03-26',\n",
    "    'end_date': '2020-03-30'\n",
    "}\n",
    "\n",
    "r = requests.get(url+'infection/region/detail', params=payload, headers=headers)\n",
    "\n",
    "data = r.json()\n",
    "df = pd.DataFrame.from_dict(data['data']['area'])\n",
    "print(df)"
   ]
  },
  {
   "cell_type": "code",
   "execution_count": 65,
   "metadata": {},
   "outputs": [
    {
     "name": "stdout",
     "output_type": "stream",
     "text": [
      "               2020-03-26  2020-03-27  2020-03-28  2020-03-29  2020-03-30  \\\n",
      "confirmed_add        7036        6999        7534        7238        7015   \n",
      "deaths_add            100         142         201         237         253   \n",
      "recovered_add           0           0           0           0           0   \n",
      "confirmed           37877       44876       52410       59648       66663   \n",
      "deaths                385         527         728         965        1218   \n",
      "recovered               0           0           0           0           0   \n",
      "\n",
      "               2020-03-31  2020-04-01  2020-04-02  2020-04-03  2020-04-04  \\\n",
      "confirmed_add        9170        8115        8558       10481       10846   \n",
      "deaths_add            332         391         432         562         630   \n",
      "recovered_add           0           0           0           0           0   \n",
      "confirmed           75833       83948       92506      102987      113833   \n",
      "deaths               1550        1941        2373        2935        3565   \n",
      "recovered               0           0           0           0           0   \n",
      "\n",
      "               2020-04-05  \n",
      "confirmed_add        9327  \n",
      "deaths_add            594  \n",
      "recovered_add           0  \n",
      "confirmed          123160  \n",
      "deaths               4159  \n",
      "recovered               0  \n"
     ]
    }
   ],
   "source": [
    "url = 'https://covid-19.adapay.tech/api/v1/'\n",
    "token = '497115d0c2ff9586bf0fe03088cfdbe2'\n",
    "region = 'US'\n",
    "\n",
    "payload = {\n",
    "    'region': region,\n",
    "    'start_date': '2020-03-26',\n",
    "    'end_date':'2020-04-05'\n",
    "}\n",
    "\n",
    "r = requests.get(url+'infection/region/detail', params=payload, headers=headers)\n",
    "\n",
    "data = r.json()\n",
    "df = pd.DataFrame.from_dict(data['data']['area']['New York'])\n",
    "print(df)"
   ]
  },
  {
   "cell_type": "code",
   "execution_count": 67,
   "metadata": {},
   "outputs": [
    {
     "data": {
      "text/plain": [
       "<matplotlib.axes._subplots.AxesSubplot at 0x194a1d4ae88>"
      ]
     },
     "execution_count": 67,
     "metadata": {},
     "output_type": "execute_result"
    },
    {
     "data": {
      "image/png": "[encoded data removed]",
      "text/plain": [
       "<Figure size 432x288 with 1 Axes>"
      ]
     },
     "metadata": {
      "needs_background": "light"
     },
     "output_type": "display_data"
    }
   ],
   "source": [
    "df=df.T\n",
    "df.plot(kind='line')"
   ]
  },
  {
   "cell_type": "code",
   "execution_count": 51,
   "metadata": {},
   "outputs": [
    {
     "name": "stdout",
     "output_type": "stream",
     "text": [
      "{'code': '30011', 'message': 'system error', 'response_id': 'OcJktpZhjRNHPGVeaznbqYEwQ'}\n"
     ]
    }
   ],
   "source": [
    "# do not use pandas\n",
    "\n",
    "url = 'https://covid-19.adapay.tech/api/v1/'\n",
    "token = '497115d0c2ff9586bf0fe03088cfdbe2'\n",
    "\n",
    "payload = {\n",
    "    'start_date':'2020-03-23'\n",
    "}\n",
    "\n",
    "r = requests.get(url+'infection/global', params=payload, headers=headers)\n",
    "\n",
    "data = r.json()\n",
    "print(data)"
   ]
  },
  {
   "cell_type": "code",
   "execution_count": 40,
   "metadata": {},
   "outputs": [
    {
     "name": "stdout",
     "output_type": "stream",
     "text": [
      "[{'2020-03-26': {'confirmed_add': 7036, 'deaths_add': 100, 'recovered_add': 0, 'confirmed': 37877, 'deaths': 385, 'recovered': 0}, '2020-03-27': {'confirmed_add': 6999, 'deaths_add': 142, 'recovered_add': 0, 'confirmed': 44876, 'deaths': 527, 'recovered': 0}, '2020-03-28': {'confirmed_add': 7534, 'deaths_add': 201, 'recovered_add': 0, 'confirmed': 52410, 'deaths': 728, 'recovered': 0}, '2020-03-29': {'confirmed_add': 7238, 'deaths_add': 237, 'recovered_add': 0, 'confirmed': 59648, 'deaths': 965, 'recovered': 0}, '2020-03-30': {'confirmed_add': 7015, 'deaths_add': 253, 'recovered_add': 0, 'confirmed': 66663, 'deaths': 1218, 'recovered': 0}}]\n"
     ]
    }
   ],
   "source": [
    "\"\"\" \n",
    "@author:Bingo.he \n",
    "@file: get_target_value.py \n",
    "@time: 2017/12/22 \n",
    "\"\"\"\n",
    "def get_target_value(key, dic, tmp_list):\n",
    "    \"\"\"\n",
    "    :param key: 目标key值\n",
    "    :param dic: JSON数据\n",
    "    :param tmp_list: 用于存储获取的数据\n",
    "    :return: list\n",
    "    \"\"\"\n",
    "    if not isinstance(dic, dict) or not isinstance(tmp_list, list):  # 对传入数据进行格式校验\n",
    "        return 'argv[1] not an dict or argv[-1] not an list '\n",
    "\n",
    "    if key in dic.keys():\n",
    "        tmp_list.append(dic[key])  # 传入数据存在则存入tmp_list\n",
    "\n",
    "    for value in dic.values():  # 传入数据不符合则对其value值进行遍历\n",
    "        if isinstance(value, dict):\n",
    "            get_target_value(key, value, tmp_list)  # 传入数据的value值是字典，则直接调用自身\n",
    "        elif isinstance(value, (list, tuple)):\n",
    "            _get_value(key, value, tmp_list)  # 传入数据的value值是列表或者元组，则调用_get_value\n",
    "\n",
    "\n",
    "    return tmp_list\n",
    "\n",
    "\n",
    "def _get_value(key, val, tmp_list):\n",
    "    for val_ in val:\n",
    "        if isinstance(val_, dict):  \n",
    "            get_target_value(key, val_, tmp_list)  # 传入数据的value值是字典，则调用get_target_value\n",
    "        elif isinstance(val_, (list, tuple)):\n",
    "            _get_value(key, val_, tmp_list)   # 传入数据的value值是列表或者元组，则调用自身\n",
    "    \n",
    "list0=[]\n",
    "print(get_target_value('New York',data,list0))"
   ]
  },
  {
   "cell_type": "code",
   "execution_count": 61,
   "metadata": {},
   "outputs": [
    {
     "name": "stdout",
     "output_type": "stream",
     "text": [
      "<Response [400]>\n"
     ]
    }
   ],
   "source": [
    "url = 'https://covid-19.adapay.tech/api/v1/'\n",
    "\n",
    "r = requests.post(url+'authentication/register', data = {'email':'wingfish@gmail.com'})\n",
    "\n",
    "print(r)\n",
    "\n"
   ]
  },
  {
   "cell_type": "code",
   "execution_count": null,
   "metadata": {},
   "outputs": [],
   "source": []
  }
 ],
 "metadata": {
  "kernelspec": {
   "display_name": "Python 3",
   "language": "python",
   "name": "python3"
  },
  "language_info": {
   "codemirror_mode": {
    "name": "ipython",
    "version": 3
   },
   "file_extension": ".py",
   "mimetype": "text/x-python",
   "name": "python",
   "nbconvert_exporter": "python",
   "pygments_lexer": "ipython3",
   "version": "3.7.6"
  },
  "pycharm": {
   "stem_cell": {
    "cell_type": "raw",
    "metadata": {
     "collapsed": false
    },
    "source": []
   }
  }
 },
 "nbformat": 4,
 "nbformat_minor": 1
}
